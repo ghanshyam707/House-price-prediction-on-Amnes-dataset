{
  "nbformat": 4,
  "nbformat_minor": 0,
  "metadata": {
    "colab": {
      "name": "House Prices: Advanced Regression Techniques.ipynb",
      "version": "0.3.2",
      "provenance": [],
      "collapsed_sections": []
    },
    "language_info": {
      "codemirror_mode": {
        "name": "ipython",
        "version": 3
      },
      "file_extension": ".py",
      "mimetype": "text/x-python",
      "name": "python",
      "nbconvert_exporter": "python",
      "pygments_lexer": "ipython3",
      "version": "3.6.5"
    },
    "kernelspec": {
      "display_name": "Python 3",
      "language": "python",
      "name": "python3"
    }
  },
  "cells": [
    {
      "cell_type": "markdown",
      "metadata": {
        "colab_type": "text",
        "id": "4S-TXu2-BerY"
      },
      "source": [
        "<div align = 'center'><h2>House Prices: Advanced Regression Techniques<h2><div>"
      ]
    },
    {
      "cell_type": "code",
      "metadata": {
        "colab_type": "code",
        "id": "oLocVm4MDvls",
        "outputId": "2cf9d5da-2862-4d69-c0bb-12396a11acce",
        "colab": {
          "base_uri": "https://localhost:8080/",
          "height": 92
        }
      },
      "source": [
        "import pandas as pd\n",
        "import matplotlib.pyplot as plt\n",
        "import seaborn as sns\n",
        "#!pip install fancyimpute\n",
        "from fancyimpute import KNN\n",
        "import numpy as np\n",
        "from sklearn.impute import SimpleImputer\n"
      ],
      "execution_count": 0,
      "outputs": [
        {
          "output_type": "stream",
          "text": [
            "/usr/local/lib/python3.6/dist-packages/sklearn/externals/six.py:31: DeprecationWarning: The module is deprecated in version 0.21 and will be removed in version 0.23 since we've dropped support for Python 2.7. Please rely on the official version of six (https://pypi.org/project/six/).\n",
            "  \"(https://pypi.org/project/six/).\", DeprecationWarning)\n",
            "Using TensorFlow backend.\n"
          ],
          "name": "stderr"
        }
      ]
    },
    {
      "cell_type": "code",
      "metadata": {
        "colab_type": "code",
        "id": "Y3d30b_ZBnGn",
        "outputId": "0136ee44-fcf8-4c40-badc-1b809d4cbfc2",
        "colab": {
          "base_uri": "https://localhost:8080/",
          "height": 129
        }
      },
      "source": [
        "#Loading house price tarning data\n",
        "\n",
        "from google.colab import drive\n",
        "drive.mount('/content/drive')\n",
        "\n",
        "data = pd.read_csv('/content/drive/My Drive/Colab Notebooks/Archives/kaggle_train.csv')\n",
        "test_data = pd.read_csv('/content/drive/My Drive/Colab Notebooks/Archives/kaggle_test.csv')\n",
        "original_data = data.copy()\n",
        "original_test_data = test_data.copy()\n",
        "#https://medium.com/data-design/visiting-categorical-features-and-encoding-in-decision-trees-53400fa65931\n"
      ],
      "execution_count": 0,
      "outputs": [
        {
          "output_type": "stream",
          "text": [
            "Go to this URL in a browser: https://accounts.google.com/o/oauth2/auth?client_id=947318989803-6bn6qk8qdgf4n4g3pfee6491hc0brc4i.apps.googleusercontent.com&redirect_uri=urn%3Aietf%3Awg%3Aoauth%3A2.0%3Aoob&scope=email%20https%3A%2F%2Fwww.googleapis.com%2Fauth%2Fdocs.test%20https%3A%2F%2Fwww.googleapis.com%2Fauth%2Fdrive%20https%3A%2F%2Fwww.googleapis.com%2Fauth%2Fdrive.photos.readonly%20https%3A%2F%2Fwww.googleapis.com%2Fauth%2Fpeopleapi.readonly&response_type=code\n",
            "\n",
            "Enter your authorization code:\n",
            "··········\n",
            "Mounted at /content/drive\n"
          ],
          "name": "stdout"
        }
      ]
    },
    {
      "cell_type": "code",
      "metadata": {
        "colab_type": "code",
        "id": "j-N_CBMi7Ggq",
        "colab": {}
      },
      "source": [
        "saleprice = data['SalePrice']\n",
        "#data.drop('SalePrice',axis = 1,inplace = True)"
      ],
      "execution_count": 0,
      "outputs": []
    },
    {
      "cell_type": "markdown",
      "metadata": {
        "colab_type": "text",
        "id": "IB5qhSncY9hB"
      },
      "source": [
        "<h1> Data Preprocessing </h1>"
      ]
    },
    {
      "cell_type": "code",
      "metadata": {
        "colab_type": "code",
        "id": "H5Q-c0AqZ_5n",
        "outputId": "82bcef2e-1782-4754-e6cf-a620550eaea8",
        "colab": {
          "base_uri": "https://localhost:8080/",
          "height": 182
        }
      },
      "source": [
        "saleprice.describe()"
      ],
      "execution_count": 0,
      "outputs": [
        {
          "output_type": "execute_result",
          "data": {
            "text/plain": [
              "count      1460.000000\n",
              "mean     180921.195890\n",
              "std       79442.502883\n",
              "min       34900.000000\n",
              "25%      129975.000000\n",
              "50%      163000.000000\n",
              "75%      214000.000000\n",
              "max      755000.000000\n",
              "Name: SalePrice, dtype: float64"
            ]
          },
          "metadata": {
            "tags": []
          },
          "execution_count": 4
        }
      ]
    },
    {
      "cell_type": "markdown",
      "metadata": {
        "colab_type": "text",
        "id": "PPG-ocq3a0fQ"
      },
      "source": [
        "There is large gap in 75th percentile and max values, shows that there might be outliers."
      ]
    },
    {
      "cell_type": "markdown",
      "metadata": {
        "colab_type": "text",
        "id": "KQzMFnJHg7kI"
      },
      "source": [
        "<h2> Getting important features by correlation with sales price </h2>"
      ]
    },
    {
      "cell_type": "code",
      "metadata": {
        "colab_type": "code",
        "id": "eDraRvuibuke",
        "outputId": "0b6fec9b-e832-46e6-b421-6bbc06955541",
        "colab": {
          "base_uri": "https://localhost:8080/",
          "height": 352
        }
      },
      "source": [
        "corrmat = data.corr()\n",
        "top_10_columns = corrmat.nlargest(10, 'SalePrice')['SalePrice'].index\n",
        "cm = np.corrcoef(data[top_10_columns].values.T)\n",
        "sns.heatmap(cm,annot=True, square=True, fmt='.2f', annot_kws={'size': 10}, yticklabels=top_10_columns.values,xticklabels=top_10_columns.values)"
      ],
      "execution_count": 0,
      "outputs": [
        {
          "output_type": "execute_result",
          "data": {
            "text/plain": [
              "<matplotlib.axes._subplots.AxesSubplot at 0x7f05ac3ea6d8>"
            ]
          },
          "metadata": {
            "tags": []
          },
          "execution_count": 5
        },
        {
          "output_type": "display_data",
          "data": {
            "image/png": "[encoded data removed]",
            "text/plain": [
              "<Figure size 432x288 with 2 Axes>"
            ]
          },
          "metadata": {
            "tags": []
          }
        }
      ]
    },
    {
      "cell_type": "code",
      "metadata": {
        "colab_type": "code",
        "id": "r5GON_kSjGeA",
        "outputId": "44b24182-9c44-4e59-a92d-05f259036bb6",
        "colab": {
          "base_uri": "https://localhost:8080/",
          "height": 301
        }
      },
      "source": [
        "data.plot.scatter('OverallQual','SalePrice')"
      ],
      "execution_count": 0,
      "outputs": [
        {
          "output_type": "execute_result",
          "data": {
            "text/plain": [
              "<matplotlib.axes._subplots.AxesSubplot at 0x7f05ac40b748>"
            ]
          },
          "metadata": {
            "tags": []
          },
          "execution_count": 6
        },
        {
          "output_type": "display_data",
          "data": {
            "image/png": "[encoded data removed]",
            "text/plain": [
              "<Figure size 432x288 with 1 Axes>"
            ]
          },
          "metadata": {
            "tags": []
          }
        }
      ]
    },
    {
      "cell_type": "markdown",
      "metadata": {
        "colab_type": "text",
        "id": "y3a8yoiAlwLN"
      },
      "source": [
        "Positive Co-Relation between SalesPrice and OverallQual"
      ]
    },
    {
      "cell_type": "code",
      "metadata": {
        "colab_type": "code",
        "id": "N0ceFM30hmO_",
        "outputId": "4c700545-1bd9-4bb8-c9c5-14731fc07c31",
        "colab": {
          "base_uri": "https://localhost:8080/",
          "height": 301
        }
      },
      "source": [
        "data.plot.scatter('GrLivArea','SalePrice')"
      ],
      "execution_count": 0,
      "outputs": [
        {
          "output_type": "execute_result",
          "data": {
            "text/plain": [
              "<matplotlib.axes._subplots.AxesSubplot at 0x7f05a974ccf8>"
            ]
          },
          "metadata": {
            "tags": []
          },
          "execution_count": 7
        },
        {
          "output_type": "display_data",
          "data": {
            "image/png": "[encoded data removed]",
            "text/plain": [
              "<Figure size 432x288 with 1 Axes>"
            ]
          },
          "metadata": {
            "tags": []
          }
        }
      ]
    },
    {
      "cell_type": "markdown",
      "metadata": {
        "colab_type": "text",
        "id": "tMXQapcnjNOY"
      },
      "source": [
        "Above graph shows that 2 points at right bottom are outliers."
      ]
    },
    {
      "cell_type": "markdown",
      "metadata": {
        "colab_type": "text",
        "id": "yhgT4qQCloFp"
      },
      "source": [
        "<h3> Removing Outliers </h3>"
      ]
    },
    {
      "cell_type": "code",
      "metadata": {
        "colab_type": "code",
        "id": "t-HkQaoijYJy",
        "colab": {}
      },
      "source": [
        "ind = data[(data.GrLivArea > 4000) & (data.SalePrice < 300000)].index\n",
        "data = data.drop(ind)\n",
        "saleprice = saleprice.drop(ind)"
      ],
      "execution_count": 0,
      "outputs": []
    },
    {
      "cell_type": "markdown",
      "metadata": {
        "colab_type": "text",
        "id": "75FvyRzkZSdd"
      },
      "source": [
        "<h2>Filling missing Values</h2>"
      ]
    },
    {
      "cell_type": "code",
      "metadata": {
        "colab_type": "code",
        "id": "oSwWNJb4EsnM",
        "outputId": "01fbaef5-b121-427e-baff-8f8e32b75829",
        "colab": {
          "base_uri": "https://localhost:8080/",
          "height": 403
        }
      },
      "source": [
        "data.isnull().sum().sort_values(ascending=False).head(20)"
      ],
      "execution_count": 0,
      "outputs": [
        {
          "output_type": "execute_result",
          "data": {
            "text/plain": [
              "PoolQC          1452\n",
              "MiscFeature     1404\n",
              "Alley           1367\n",
              "Fence           1177\n",
              "FireplaceQu      690\n",
              "LotFrontage      259\n",
              "GarageCond        81\n",
              "GarageType        81\n",
              "GarageYrBlt       81\n",
              "GarageFinish      81\n",
              "GarageQual        81\n",
              "BsmtExposure      38\n",
              "BsmtFinType2      38\n",
              "BsmtFinType1      37\n",
              "BsmtCond          37\n",
              "BsmtQual          37\n",
              "MasVnrArea         8\n",
              "MasVnrType         8\n",
              "Electrical         1\n",
              "Utilities          0\n",
              "dtype: int64"
            ]
          },
          "metadata": {
            "tags": []
          },
          "execution_count": 9
        }
      ]
    },
    {
      "cell_type": "markdown",
      "metadata": {
        "colab_type": "text",
        "id": "SZj_PmnwG2tP"
      },
      "source": [
        "<h2> Alley,  PoolQC, Fence and MiscFeature have More than 90% of the values are missing. </h2>\n",
        " We will fill null value of this columns with NA. As, filling this columns with other strategy dosn't add value to the data."
      ]
    },
    {
      "cell_type": "code",
      "metadata": {
        "colab_type": "code",
        "id": "VYFZB6uaJfrR",
        "colab": {}
      },
      "source": [
        "clms = ['MiscFeature','Fence','PoolQC','Alley']\n",
        "other_data = pd.DataFrame(data=SimpleImputer(strategy = 'constant',fill_value = 'NA').fit_transform(data[clms]), columns=data[clms].columns, index=data[clms].index)\n",
        "test_other_data = pd.DataFrame(data=SimpleImputer(strategy = 'constant',fill_value = 'NA').fit_transform(test_data[clms]), columns=test_data[clms].columns, index=test_data[clms].index)"
      ],
      "execution_count": 0,
      "outputs": []
    },
    {
      "cell_type": "code",
      "metadata": {
        "colab_type": "code",
        "id": "X4zADeZB4D4J",
        "colab": {}
      },
      "source": [
        "numric_columns = data.select_dtypes(['float64','int64']).columns\n",
        "cat_columns =data.select_dtypes(['object']).columns\n",
        "#removing columns with many missing values and target value column\n",
        "cat_columns = (cat_columns).drop(clms)\n",
        "numric_columns = numric_columns.drop('SalePrice')"
      ],
      "execution_count": 0,
      "outputs": []
    },
    {
      "cell_type": "markdown",
      "metadata": {
        "colab_type": "text",
        "id": "N29u7I00AX7V"
      },
      "source": [
        "Filling missing Numrical Value using KNN"
      ]
    },
    {
      "cell_type": "code",
      "metadata": {
        "colab_type": "code",
        "id": "hEbSqTtJFECr",
        "outputId": "294e74f6-fcec-4f60-d941-55e3aa45766a",
        "colab": {
          "base_uri": "https://localhost:8080/",
          "height": 568
        }
      },
      "source": [
        "numric_data = pd.DataFrame(data=KNN(k=3).fit_transform(data[numric_columns]), columns=data[numric_columns].columns, index=data[numric_columns].index)\n",
        "test_numric_data =  pd.DataFrame(data=KNN(k=3).fit_transform(test_data[numric_columns]), columns=test_data[numric_columns].columns, index=test_data[numric_columns].index)"
      ],
      "execution_count": 0,
      "outputs": [
        {
          "output_type": "stream",
          "text": [
            "Imputing row 1/1458 with 0 missing, elapsed time: 0.598\n",
            "Imputing row 101/1458 with 1 missing, elapsed time: 0.600\n",
            "Imputing row 201/1458 with 0 missing, elapsed time: 0.601\n",
            "Imputing row 301/1458 with 0 missing, elapsed time: 0.602\n",
            "Imputing row 401/1458 with 0 missing, elapsed time: 0.603\n",
            "Imputing row 501/1458 with 0 missing, elapsed time: 0.604\n",
            "Imputing row 601/1458 with 0 missing, elapsed time: 0.605\n",
            "Imputing row 701/1458 with 0 missing, elapsed time: 0.606\n",
            "Imputing row 801/1458 with 0 missing, elapsed time: 0.607\n",
            "Imputing row 901/1458 with 0 missing, elapsed time: 0.608\n",
            "Imputing row 1001/1458 with 0 missing, elapsed time: 0.609\n",
            "Imputing row 1101/1458 with 0 missing, elapsed time: 0.610\n",
            "Imputing row 1201/1458 with 0 missing, elapsed time: 0.611\n",
            "Imputing row 1301/1458 with 0 missing, elapsed time: 0.612\n",
            "Imputing row 1401/1458 with 0 missing, elapsed time: 0.613\n",
            "Imputing row 1/1459 with 0 missing, elapsed time: 0.594\n",
            "Imputing row 101/1459 with 1 missing, elapsed time: 0.595\n",
            "Imputing row 201/1459 with 0 missing, elapsed time: 0.596\n",
            "Imputing row 301/1459 with 0 missing, elapsed time: 0.597\n",
            "Imputing row 401/1459 with 0 missing, elapsed time: 0.598\n",
            "Imputing row 501/1459 with 0 missing, elapsed time: 0.599\n",
            "Imputing row 601/1459 with 0 missing, elapsed time: 0.600\n",
            "Imputing row 701/1459 with 0 missing, elapsed time: 0.601\n",
            "Imputing row 801/1459 with 0 missing, elapsed time: 0.602\n",
            "Imputing row 901/1459 with 0 missing, elapsed time: 0.603\n",
            "Imputing row 1001/1459 with 0 missing, elapsed time: 0.604\n",
            "Imputing row 1101/1459 with 0 missing, elapsed time: 0.605\n",
            "Imputing row 1201/1459 with 0 missing, elapsed time: 0.606\n",
            "Imputing row 1301/1459 with 0 missing, elapsed time: 0.607\n",
            "Imputing row 1401/1459 with 0 missing, elapsed time: 0.608\n"
          ],
          "name": "stdout"
        }
      ]
    },
    {
      "cell_type": "markdown",
      "metadata": {
        "colab_type": "text",
        "id": "PIsXo750AdJw"
      },
      "source": [
        "Filling missing value for categorical data using mode"
      ]
    },
    {
      "cell_type": "code",
      "metadata": {
        "colab_type": "code",
        "id": "HBfyXLu2_iVN",
        "colab": {}
      },
      "source": [
        "catog_data=pd.DataFrame(data=SimpleImputer(strategy = 'most_frequent').fit_transform(data[cat_columns]), columns=data[cat_columns].columns, index=data[cat_columns].index)\n",
        "test_catog_data=pd.DataFrame(data=SimpleImputer(strategy = 'most_frequent').fit_transform(test_data[cat_columns]), columns=test_data[cat_columns].columns, index=test_data[cat_columns].index)"
      ],
      "execution_count": 0,
      "outputs": []
    },
    {
      "cell_type": "code",
      "metadata": {
        "colab_type": "code",
        "id": "rw7sHYMkSS0v",
        "colab": {}
      },
      "source": [
        "data = pd.concat([numric_data,catog_data,other_data],axis = 1)\n",
        "test_data = pd.concat([test_numric_data,test_catog_data,test_other_data],axis = 1)"
      ],
      "execution_count": 0,
      "outputs": []
    },
    {
      "cell_type": "code",
      "metadata": {
        "colab_type": "code",
        "id": "zz7ZLCyR_DaZ",
        "outputId": "807d08b0-de7a-4c80-9eaa-78f75c9d835b",
        "colab": {
          "base_uri": "https://localhost:8080/",
          "height": 54
        }
      },
      "source": [
        "print(data.shape)\n",
        "print(test_data.shape)"
      ],
      "execution_count": 0,
      "outputs": [
        {
          "output_type": "stream",
          "text": [
            "(1458, 80)\n",
            "(1459, 80)\n"
          ],
          "name": "stdout"
        }
      ]
    },
    {
      "cell_type": "markdown",
      "metadata": {
        "colab_type": "text",
        "id": "CEGZZ0lb_6ID"
      },
      "source": [
        "<h2>Distribution of salesprice</h2>"
      ]
    },
    {
      "cell_type": "code",
      "metadata": {
        "colab_type": "code",
        "id": "nyMHWoNp-GvK",
        "outputId": "83bf8831-d414-44d8-e136-ae32559b8bb1",
        "colab": {
          "base_uri": "https://localhost:8080/",
          "height": 301
        }
      },
      "source": [
        "sns.distplot(saleprice, hist=True, kde=True)"
      ],
      "execution_count": 0,
      "outputs": [
        {
          "output_type": "execute_result",
          "data": {
            "text/plain": [
              "<matplotlib.axes._subplots.AxesSubplot at 0x7f05a96c2c18>"
            ]
          },
          "metadata": {
            "tags": []
          },
          "execution_count": 16
        },
        {
          "output_type": "display_data",
          "data": {
            "image/png": "[encoded data removed]",
            "text/plain": [
              "<Figure size 432x288 with 1 Axes>"
            ]
          },
          "metadata": {
            "tags": []
          }
        }
      ]
    },
    {
      "cell_type": "markdown",
      "metadata": {
        "colab_type": "text",
        "id": "ZbD67c2kAA8D"
      },
      "source": [
        "<h2> Salesprice have normlised distribution with right kurtoisis.</h2>\n",
        "Standrdizing numrical variable to have normal distibution might give better accuracy in some algorithm like Gaussian Naive Bayes."
      ]
    },
    {
      "cell_type": "markdown",
      "metadata": {
        "colab_type": "text",
        "id": "fORt16tQPIPp"
      },
      "source": [
        "<h3> Standadizing Numrical Features to have Normlise distribution</h3>"
      ]
    },
    {
      "cell_type": "code",
      "metadata": {
        "colab_type": "code",
        "id": "OCwmerTfQPDJ",
        "colab": {}
      },
      "source": [
        "#https://www.kaggle.com/apapiu/regularized-linear-models\n",
        "#log transform the target:\n",
        "from scipy.stats import skew\n",
        "saleprice = np.log1p(saleprice)\n",
        "\n",
        "#log transform skewed numeric features:\n",
        "\n",
        "skewed_feats = data[numric_columns].apply(lambda x: skew(x.dropna())) #compute skewness\n",
        "skewed_feats = skewed_feats[skewed_feats > 0.75]\n",
        "skewed_feats = skewed_feats.index\n",
        "\n",
        "data[skewed_feats] = np.log1p(data[skewed_feats])\n",
        "test_data[skewed_feats] = np.log1p(test_data[skewed_feats])"
      ],
      "execution_count": 0,
      "outputs": []
    },
    {
      "cell_type": "code",
      "metadata": {
        "colab_type": "code",
        "id": "e_gTKfbkAokG",
        "colab": {}
      },
      "source": [
        "from sklearn.preprocessing import StandardScaler\n",
        "stdsc = StandardScaler()\n",
        "data[numric_columns] = stdsc.fit_transform(data[numric_columns])\n",
        "test_data[numric_columns] = stdsc.transform(test_data[numric_columns])"
      ],
      "execution_count": 0,
      "outputs": []
    },
    {
      "cell_type": "markdown",
      "metadata": {
        "colab_type": "text",
        "id": "Q2xOdOKWOl1L"
      },
      "source": [
        "<h3> OneHot Encoding Catogorical Features </h3>"
      ]
    },
    {
      "cell_type": "code",
      "metadata": {
        "colab_type": "code",
        "id": "bgGiwd1oOsZC",
        "colab": {}
      },
      "source": [
        "from sklearn.feature_extraction.text import CountVectorizer\n",
        "for column in cat_columns:\n",
        "  cv = CountVectorizer(token_pattern=r\"\\b\\w+\\b\")\n",
        "  data = pd.concat([data,pd.DataFrame(data = cv.fit_transform(data[column]).toarray(),index = data.index)],axis = 1)\n",
        "  data.drop(column,axis = 1,inplace = True)\n",
        "  \n",
        "  test_data = pd.concat([test_data,pd.DataFrame(data = cv.transform(test_data[column]).toarray(),index = test_data.index)],axis = 1)\n",
        "  test_data.drop(column,axis = 1,inplace = True)\n",
        "#---------------------------------------------------------------------------------\n",
        "\n",
        "for column in clms:\n",
        "  cv = CountVectorizer(token_pattern=r\"\\b\\w+\\b\")\n",
        "  data = pd.concat([data,pd.DataFrame(data = cv.fit_transform(data[column]).toarray(),index = data.index)],axis = 1)\n",
        "  data.drop(column,axis = 1,inplace = True)\n",
        "  \n",
        "  test_data = pd.concat([test_data,pd.DataFrame(data = cv.transform(test_data[column]).toarray(),index = test_data.index)],axis = 1)\n",
        "  test_data.drop(column,axis = 1,inplace = True)"
      ],
      "execution_count": 0,
      "outputs": []
    },
    {
      "cell_type": "markdown",
      "metadata": {
        "colab_type": "text",
        "id": "WX3Pdn45mIk0"
      },
      "source": [
        "<h2> Feature Engineering </h2>"
      ]
    },
    {
      "cell_type": "code",
      "metadata": {
        "colab_type": "code",
        "id": "0XnfUITamIH-",
        "colab": {}
      },
      "source": [
        "#Getting polynomials of top 10 features\n",
        "feature_engineering_data = data.copy()\n",
        "top_10_columns = top_10_columns.drop('SalePrice')\n",
        "for column in top_10_columns:\n",
        "  feature_engineering_data[column.join('cos')] = np.cos(data[column])"
      ],
      "execution_count": 0,
      "outputs": []
    },
    {
      "cell_type": "code",
      "metadata": {
        "colab_type": "code",
        "id": "fO0ayZ2Eu-T0",
        "colab": {}
      },
      "source": [
        "#for test data\n",
        "feature_engineering_test_data = test_data.copy()\n",
        "for column in top_10_columns:\n",
        "  feature_engineering_test_data[column.join('cos')] = np.cos(test_data[column])"
      ],
      "execution_count": 0,
      "outputs": []
    },
    {
      "cell_type": "markdown",
      "metadata": {
        "colab_type": "text",
        "id": "If0u_jLarba8"
      },
      "source": [
        "<h3> </h3>"
      ]
    },
    {
      "cell_type": "code",
      "metadata": {
        "colab_type": "code",
        "id": "so8JIncUvt1u",
        "outputId": "6054a3f1-cd2b-42f4-a8ec-c3842be67620",
        "colab": {
          "base_uri": "https://localhost:8080/",
          "height": 301
        }
      },
      "source": [
        "sns.distplot(data['OverallQual'])"
      ],
      "execution_count": 0,
      "outputs": [
        {
          "output_type": "execute_result",
          "data": {
            "text/plain": [
              "<matplotlib.axes._subplots.AxesSubplot at 0x7f05a9620f28>"
            ]
          },
          "metadata": {
            "tags": []
          },
          "execution_count": 22
        },
        {
          "output_type": "display_data",
          "data": {
            "image/png": "[encoded data removed]",
            "text/plain": [
              "<Figure size 432x288 with 1 Axes>"
            ]
          },
          "metadata": {
            "tags": []
          }
        }
      ]
    },
    {
      "cell_type": "code",
      "metadata": {
        "colab_type": "code",
        "id": "whEYita8_WX8",
        "outputId": "6ce48970-7b34-4842-9d1e-5db1ecbaca36",
        "colab": {
          "base_uri": "https://localhost:8080/",
          "height": 301
        }
      },
      "source": [
        "sns.distplot(np.cos(data['OverallQual']))"
      ],
      "execution_count": 0,
      "outputs": [
        {
          "output_type": "execute_result",
          "data": {
            "text/plain": [
              "<matplotlib.axes._subplots.AxesSubplot at 0x7f05a956ad68>"
            ]
          },
          "metadata": {
            "tags": []
          },
          "execution_count": 23
        },
        {
          "output_type": "display_data",
          "data": {
            "image/png": "[encoded data removed]",
            "text/plain": [
              "<Figure size 432x288 with 1 Axes>"
            ]
          },
          "metadata": {
            "tags": []
          }
        }
      ]
    },
    {
      "cell_type": "markdown",
      "metadata": {
        "colab_type": "text",
        "id": "dgVYKNcLrzHl"
      },
      "source": [
        "<b> Feature engineered data is concentrated within -1 to 1 without symmetry.\n",
        " <br>Converting data with cos function gives better result then other polynomial features.\n",
        "<br> Taking cos function of numrical feature supress effect of outliers in numrical data, and hence it is giving better result then normal data </b>"
      ]
    },
    {
      "cell_type": "markdown",
      "metadata": {
        "colab_type": "text",
        "id": "_T4QqUAT3rIi"
      },
      "source": [
        "<h3> Spilliting data into train and test</h3>"
      ]
    },
    {
      "cell_type": "code",
      "metadata": {
        "colab_type": "code",
        "id": "dvpp7-3R3ybN",
        "colab": {}
      },
      "source": [
        "from sklearn.model_selection import train_test_split\n",
        "\n",
        "\n",
        "x_train, x_test, y_train, y_test = train_test_split(data, saleprice,test_size=0.2)\n",
        "fe_x_train, fe_x_test, fe_y_train, fe_y_test = train_test_split(feature_engineering_data, saleprice,test_size=0.2)"
      ],
      "execution_count": 0,
      "outputs": []
    },
    {
      "cell_type": "markdown",
      "metadata": {
        "colab_type": "text",
        "id": "jO0mlZ233P6j"
      },
      "source": [
        "<h2> Training Models </h2>"
      ]
    },
    {
      "cell_type": "markdown",
      "metadata": {
        "colab_type": "text",
        "id": "nnFN6d147sM0"
      },
      "source": [
        "<h3>Lasso</h3>"
      ]
    },
    {
      "cell_type": "code",
      "metadata": {
        "colab_type": "code",
        "id": "iHjzmmJQHLX2",
        "outputId": "8c9d27dd-0d86-469c-d335-0c7f0d97a5cb",
        "colab": {
          "base_uri": "https://localhost:8080/",
          "height": 109
        }
      },
      "source": [
        "from sklearn.linear_model import LassoCV\n",
        "from sklearn.metrics import r2_score, mean_squared_error\n",
        "\n",
        "lasso = LassoCV(\n",
        "            cv=10,\n",
        "            max_iter=50000,\n",
        "            n_jobs=-1,\n",
        "            random_state=42\n",
        "      )\n",
        "\n",
        "lasso = lasso.fit(x_train, y_train)\n",
        "\n",
        "\n",
        "y_pred_cv = lasso.predict(x_train)\n",
        "y_pred_test = lasso.predict(x_test)\n",
        "\n",
        "print('Best Alpha : ' + str(lasso.alpha_))\n",
        "\n",
        "print('Train R^2 : ' + str(r2_score(y_train, y_pred_cv)))\n",
        "print('Test R^2 : ' + str(r2_score(y_test, y_pred_test)))\n",
        "\n",
        "print('Train MSE : ' + str(mean_squared_error(y_train, y_pred_cv)))\n",
        "print('Test MSE : ' + str(mean_squared_error(y_test, y_pred_test)))"
      ],
      "execution_count": 0,
      "outputs": [
        {
          "output_type": "stream",
          "text": [
            "Best Alpha : 0.000387579046010464\n",
            "Train R^2 : 0.9424698134967195\n",
            "Test R^2 : 0.9312895328969698\n",
            "Train MSE : 0.00955778754003222\n",
            "Test MSE : 0.009189279383032179\n"
          ],
          "name": "stdout"
        }
      ]
    },
    {
      "cell_type": "code",
      "metadata": {
        "colab_type": "code",
        "id": "pXV47Hec3Xs2",
        "outputId": "e16f304c-1a45-4ccb-b11e-46c34078eea5",
        "colab": {
          "base_uri": "https://localhost:8080/",
          "height": 127
        }
      },
      "source": [
        "from sklearn.linear_model import LassoCV\n",
        "from sklearn.metrics import r2_score, mean_squared_error\n",
        "\n",
        "print(\"-\"*20,' For FE Data',\"-\"*20)\n",
        "\n",
        "lasso_fe = LassoCV(\n",
        "            cv=10,\n",
        "            max_iter=50000,\n",
        "            n_jobs=-1,\n",
        "            random_state=42\n",
        "      )\n",
        "\n",
        "lasso_fe = lasso_fe.fit(fe_x_train,fe_y_train)\n",
        "\n",
        "y_pred_cv = lasso_fe.predict(fe_x_train)\n",
        "y_pred_test = lasso_fe.predict(fe_x_test)\n",
        "\n",
        "print('Best Alpha : ' + str(lasso_fe.alpha_))\n",
        "\n",
        "print('Train R^2 : ' + str(r2_score(fe_y_train, y_pred_cv)))\n",
        "print('Test R^2 : ' + str(r2_score(fe_y_test, y_pred_test)))\n",
        "\n",
        "print('Train MSE : ' + str(mean_squared_error(fe_y_train, y_pred_cv)))\n",
        "print('Test MSE : ' + str(mean_squared_error(fe_y_test, y_pred_test)))\n"
      ],
      "execution_count": 0,
      "outputs": [
        {
          "output_type": "stream",
          "text": [
            "--------------------  For FE Data --------------------\n",
            "Best Alpha : 0.000585242182046492\n",
            "Train R^2 : 0.941692985647157\n",
            "Test R^2 : 0.9230825222835246\n",
            "Train MSE : 0.009384613207853365\n",
            "Test MSE : 0.011881334728975332\n"
          ],
          "name": "stdout"
        }
      ]
    },
    {
      "cell_type": "code",
      "metadata": {
        "colab_type": "code",
        "id": "v4VtfFJAjhlw",
        "outputId": "b192beb4-d067-42cd-fe6d-0d3979f30c55",
        "colab": {
          "base_uri": "https://localhost:8080/",
          "height": 35
        }
      },
      "source": [
        "np.nonzero(lasso.coef_)[0].shape"
      ],
      "execution_count": 0,
      "outputs": [
        {
          "output_type": "execute_result",
          "data": {
            "text/plain": [
              "(134,)"
            ]
          },
          "metadata": {
            "tags": []
          },
          "execution_count": 27
        }
      ]
    },
    {
      "cell_type": "markdown",
      "metadata": {
        "colab_type": "text",
        "id": "n29JXFZsd--V"
      },
      "source": [
        "<h3> Random Forest </h3>"
      ]
    },
    {
      "cell_type": "markdown",
      "metadata": {
        "colab_type": "text",
        "id": "m8Ow2xensPJk"
      },
      "source": [
        "<b> Taking only important data with co-efficient of lasso method."
      ]
    },
    {
      "cell_type": "code",
      "metadata": {
        "colab_type": "code",
        "id": "cxsl5L02quNx",
        "colab": {}
      },
      "source": [
        "data = data.iloc[:,np.nonzero(lasso.coef_)[0]]\n",
        "feature_engineering_data = feature_engineering_data.iloc[:,np.nonzero(lasso_fe.coef_)[0]]\n",
        "feature_engineering_test_data_ = feature_engineering_test_data.iloc[:,np.nonzero(lasso_fe.coef_)[0]]\n",
        "\n",
        "x_train, x_test, y_train, y_test = train_test_split(data, saleprice,test_size=0.2)\n",
        "fe_x_train, fe_x_test, fe_y_train, fe_y_test = train_test_split(feature_engineering_data, saleprice,test_size=0.2)"
      ],
      "execution_count": 0,
      "outputs": []
    },
    {
      "cell_type": "code",
      "metadata": {
        "colab_type": "code",
        "id": "oBkuo5ezBsfU",
        "colab": {}
      },
      "source": [
        "feature_engineering_test_data_ = feature_engineering_test_data.iloc[:,np.nonzero(lasso_fe.coef_)[0]]"
      ],
      "execution_count": 0,
      "outputs": []
    },
    {
      "cell_type": "code",
      "metadata": {
        "colab_type": "code",
        "id": "5bFc8sYYv0Hs",
        "outputId": "80cae36c-f5a2-418a-caad-248b6bcc6dcb",
        "colab": {
          "base_uri": "https://localhost:8080/",
          "height": 109
        }
      },
      "source": [
        "from sklearn.ensemble import RandomForestRegressor\n",
        "from sklearn.model_selection import GridSearchCV\n",
        "\n",
        "parameters = {\n",
        "                'n_estimators': [50,100,150,200],\n",
        "                'oob_score': [True],\n",
        "                'criterion': ['mse'],\n",
        "                'max_depth': [3,6,9, 12, 15],\n",
        "                'n_jobs': [-1],\n",
        "                'random_state': [42]\n",
        "\n",
        "             }\n",
        "\n",
        "RFG = RandomForestRegressor()\n",
        "\n",
        "rfc = GridSearchCV(RFG, parameters, cv=10, scoring='r2')\n",
        "rfc = rfc.fit(x_train, y_train)\n",
        "\n",
        "print('Best Score : ' + str(rfc.best_score_))\n",
        "print('Train R^2 : ' + str(r2_score(y_train, y_pred_cv)))\n",
        "print('Test R^2 : ' + str(r2_score(y_test, y_pred_test)))\n",
        "\n",
        "print('Train MSE : ' + str(mean_squared_error(y_train, y_pred_cv)))\n",
        "print('Test MSE : ' + str(mean_squared_error(y_test, y_pred_test)))\n",
        "\n"
      ],
      "execution_count": 0,
      "outputs": [
        {
          "output_type": "stream",
          "text": [
            "Best Score : 0.8684699199695298\n",
            "Train R^2 : -1.074098216340993\n",
            "Test R^2 : -0.9428752738643089\n",
            "Train MSE : 0.3368279534565931\n",
            "Test MSE : 0.2882962959042084\n"
          ],
          "name": "stdout"
        }
      ]
    },
    {
      "cell_type": "code",
      "metadata": {
        "colab_type": "code",
        "id": "PJ6RyzdoH81H",
        "outputId": "f979b69d-931c-438c-b377-1f0f4e1abb0c",
        "colab": {
          "base_uri": "https://localhost:8080/",
          "height": 127
        }
      },
      "source": [
        "#---------------------------------- For FE data -------------------------------\n",
        "from sklearn.ensemble import RandomForestRegressor\n",
        "from sklearn.model_selection import GridSearchCV\n",
        "\n",
        "parameters = {\n",
        "                'n_estimators': [50,100,150,200],\n",
        "                'oob_score': [True],\n",
        "                'criterion': ['mse'],\n",
        "                'max_depth': [3,6,9, 12, 15],\n",
        "                'n_jobs': [-1],\n",
        "                'random_state': [42]\n",
        "\n",
        "             }\n",
        "\n",
        "RFG = RandomForestRegressor()\n",
        "\n",
        "\n",
        "print(\"-\"*20,' For FE Data',\"-\"*20)\n",
        "rfc_fe = GridSearchCV(RFG, parameters, cv=10, scoring='r2')\n",
        "rfc_fe = rfc_fe.fit(fe_x_train, fe_y_train)\n",
        "\n",
        "y_pred_cv = rfc_fe.predict(fe_x_train)\n",
        "y_pred_test = rfc_fe.predict(fe_x_test)\n",
        "\n",
        "print('Best Score : ' + str(rfc_fe.best_score_))\n",
        "\n",
        "print('Train R^2 : ' + str(r2_score(fe_y_train, y_pred_cv)))\n",
        "print('Test R^2 : ' + str(r2_score(fe_y_test, y_pred_test)))\n",
        "\n",
        "print('Train MSE : ' + str(mean_squared_error(fe_y_train, y_pred_cv)))\n",
        "print('Test MSE : ' + str(mean_squared_error(fe_y_test, y_pred_test)))"
      ],
      "execution_count": 0,
      "outputs": [
        {
          "output_type": "stream",
          "text": [
            "--------------------  For FE Data --------------------\n",
            "Best Score : 0.8779569796658526\n",
            "Train R^2 : 0.9829308717166015\n",
            "Test R^2 : 0.8752949774477806\n",
            "Train MSE : 0.002813588495127122\n",
            "Test MSE : 0.017323642491274\n"
          ],
          "name": "stdout"
        }
      ]
    },
    {
      "cell_type": "code",
      "metadata": {
        "colab_type": "code",
        "id": "i3u7agIRuD_q",
        "outputId": "43cd4e56-593b-41ab-b953-90bbd38bcf0c",
        "colab": {
          "base_uri": "https://localhost:8080/",
          "height": 127
        }
      },
      "source": [
        "from sklearn.ensemble import GradientBoostingRegressor\n",
        "from sklearn.model_selection import GridSearchCV\n",
        "parameters = {\n",
        "                'n_estimators': [50,70,100,150,200,500], # default 100\n",
        "                'max_depth': [3, 6, 9, 12],\n",
        "             }\n",
        "\n",
        "model = GradientBoostingRegressor()\n",
        "\n",
        "'''xgb = GridSearchCV(model, parameters, cv=10)\n",
        "xgb = xgb.fit(x_train, y_train)\n",
        "\n",
        "print('Best Score : ' + str(xgb.best_score_))\n",
        "print('Train R^2 : ' + str(r2_score(y_train, y_pred_cv)))\n",
        "print('Test R^2 : ' + str(r2_score(y_test, y_pred_test)))\n",
        "\n",
        "print('Train MSE : ' + str(mean_squared_error(y_train, y_pred_cv)))\n",
        "print('Test MSE : ' + str(mean_squared_error(y_test, y_pred_test)))\n",
        "'''\n",
        "#---------------------------------- For FE data -------------------------------\n",
        "\n",
        "print(\"-\"*20,' For FE Data',\"-\"*20)\n",
        "xgb_fe = GridSearchCV(model, parameters, cv=10)\n",
        "xgb_fe = xgb_fe.fit(fe_x_train, fe_y_train)\n",
        "\n",
        "y_pred_cv = xgb_fe.predict(fe_x_train)\n",
        "y_pred_test = xgb_fe.predict(fe_x_test)\n",
        "\n",
        "\n",
        "print('Best Score : ' + str(xgb_fe.best_score_))\n",
        "\n",
        "print('Train R^2 : ' + str(r2_score(fe_y_train, y_pred_cv)))\n",
        "print('Test R^2 : ' + str(r2_score(fe_y_test, y_pred_test)))\n",
        "\n",
        "print('Train MSE : ' + str(mean_squared_error(fe_y_train, y_pred_cv)))\n",
        "print('Test MSE : ' + str(mean_squared_error(fe_y_test, y_pred_test)))"
      ],
      "execution_count": 0,
      "outputs": [
        {
          "output_type": "stream",
          "text": [
            "--------------------  For FE Data --------------------\n",
            "Best Score : 0.9026734680490477\n",
            "Train R^2 : 0.9928934513512983\n",
            "Test R^2 : 0.9232709251682383\n",
            "Train MSE : 0.0011509810135324017\n",
            "Test MSE : 0.011536935798430367\n"
          ],
          "name": "stdout"
        }
      ]
    },
    {
      "cell_type": "markdown",
      "metadata": {
        "colab_type": "text",
        "id": "uIB-tZltVqZq"
      },
      "source": [
        "<h3> Stacking </h3>"
      ]
    },
    {
      "cell_type": "code",
      "metadata": {
        "colab_type": "code",
        "id": "L9m85TkFWJ3y",
        "outputId": "a26be580-8daf-437c-e21c-f990b3b2383f",
        "colab": {
          "base_uri": "https://localhost:8080/",
          "height": 90
        }
      },
      "source": [
        "from mlxtend.regressor import StackingRegressor\n",
        "from sklearn.linear_model import LinearRegression\n",
        "\n",
        "model = StackingRegressor( regressors=[lasso_fe, xgb_fe, rfc_fe], meta_regressor=LinearRegression(n_jobs = -1))\n",
        "\n",
        "model.fit(fe_x_train, fe_y_train)\n",
        "\n",
        "y_pred_cv = model.predict(fe_x_train)\n",
        "y_pred_test = model.predict(fe_x_test)\n",
        "\n",
        "\n",
        "print('Train R^2 : ' + str(r2_score(fe_y_train, y_pred_cv)))\n",
        "print('Test R^2 : ' + str(r2_score(fe_y_test, y_pred_test)))\n",
        "\n",
        "print('Train MSE : ' + str(mean_squared_error(fe_y_train, y_pred_cv)))\n",
        "print('Test MSE : ' + str(mean_squared_error(fe_y_test, y_pred_test)))"
      ],
      "execution_count": 0,
      "outputs": [
        {
          "output_type": "stream",
          "text": [
            "Train R^2 : 0.986447983296672\n",
            "Test R^2 : 0.8479703112014891\n",
            "Train MSE : 0.002233845668576968\n",
            "Test MSE : 0.021119502028895426\n"
          ],
          "name": "stdout"
        }
      ]
    },
    {
      "cell_type": "code",
      "metadata": {
        "colab_type": "code",
        "id": "XKSvQhrfglVY",
        "colab": {}
      },
      "source": [
        "lasso_y_pred = lasso.predict(test_data)\n",
        "#stacking_y_pred = model.predict(feature_engineering_test_data_)\n",
        "xgb_y_pred = xgb_fe.predict(feature_engineering_test_data_)\n",
        "#rfc_y_pred = rfc_fe.predict(feature_engineering_test_data_)\n",
        "\n",
        "y_pred = (1.1*xgb_y_pred)\n",
        "\n",
        "# Create empty submission dataframe\n",
        "sub = pd.DataFrame()\n",
        "\n",
        "# Insert ID and Predictions into dataframe\n",
        "sub['Id'] = original_test_data['Id']\n",
        "sub['SalePrice'] = np.expm1(y_pred)\n",
        "\n",
        "# Output submission file\n",
        "sub.to_csv('/content/drive/My Drive/Colab Notebooks/Archives/submission.csv',index=False)"
      ],
      "execution_count": 0,
      "outputs": []
    },
    {
      "cell_type": "markdown",
      "metadata": {
        "colab_type": "text",
        "id": "urtnEnBKITvs"
      },
      "source": [
        "<b>XGBoost have the lowset MSE</b>"
      ]
    }
  ]
}